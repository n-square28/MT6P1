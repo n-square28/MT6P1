{
 "cells": [
  {
   "cell_type": "code",
   "execution_count": 44,
   "metadata": {},
   "outputs": [
    {
     "name": "stdout",
     "output_type": "stream",
     "text": [
      "{a0: 0, a1: 0, a2: 0, a3: 0}\n",
      "The vectors are linearly independent\n",
      "The given set[[ 1  0  0 -1]\n",
      " [ 0  1  0 -1]\n",
      " [ 0  0  1 -1]\n",
      " [ 0  0  0  1]] is a basis of the vector space\n",
      "\n",
      "{a0: -2*a2, a1: a2}\n",
      "The[[ 1  1  0]\n",
      " [ 0  1  1]\n",
      " [ 2  1 -1]] vectors are linearly dependent and hence cannot be a basis\n",
      "\n",
      "{a0: 0, a1: 0, a2: 0}\n",
      "The vectors are linearly independent\n",
      "The given set[x**2 + x + 1 x**2 + x x**2] is a basis of the vector space\n",
      "\n"
     ]
    }
   ],
   "source": [
    "import sympy as sp\n",
    "import numpy as np\n",
    "\n",
    "def check_dependance(S,dim):\n",
    "    var=sp.symbols(f'a:{len(S)}')\n",
    "    m = 0\n",
    "    #print(var)\n",
    "    for i,v in enumerate(var):\n",
    "        m=m+v*S[i]\n",
    "    scalars=sp.solve(m,var)\n",
    "    print(scalars)\n",
    "    flag = 0\n",
    "    for x in scalars:\n",
    "        if scalars[x] != 0:\n",
    "            flag = 1\n",
    "    if flag == 0:\n",
    "        print(\"The vectors are linearly independent\")\n",
    "        if dim==len(scalars):\n",
    "            \n",
    "            print(f\"The given set{S} is a basis of the vector space\\n\")\n",
    "        else:\n",
    "            print(f\"The given set{S} is not a basis of the vector space\\n\")\n",
    "    elif flag == 1:\n",
    "        print(f\"The{S} vectors are linearly dependent and hence cannot be a basis\\n\")    \n",
    "S = np.array([(1,0,0,-1),(0,1,0,-1),(0,0,1,-1),(0,0,0,1)])\n",
    "check_dependance(S,4)\n",
    "01\n",
    "S=np.array([(1,1,0),(0,1,1),(2,1,-1)])\n",
    "check_dependance(S,3)\n",
    "\n",
    "x = sp.symbols('x')\n",
    "S = np.array([1+x+x**2,x+x**2,x**2])\n",
    "check_dependance(S,3)"
   ]
  },
  {
   "cell_type": "code",
   "execution_count": null,
   "metadata": {},
   "outputs": [],
   "source": []
  },
  {
   "cell_type": "code",
   "execution_count": null,
   "metadata": {},
   "outputs": [],
   "source": []
  }
 ],
 "metadata": {
  "kernelspec": {
   "display_name": "Python 3",
   "language": "python",
   "name": "python3"
  },
  "language_info": {
   "codemirror_mode": {
    "name": "ipython",
    "version": 3
   },
   "file_extension": ".py",
   "mimetype": "text/x-python",
   "name": "python",
   "nbconvert_exporter": "python",
   "pygments_lexer": "ipython3",
   "version": "3.6.9"
  }
 },
 "nbformat": 4,
 "nbformat_minor": 2
}
