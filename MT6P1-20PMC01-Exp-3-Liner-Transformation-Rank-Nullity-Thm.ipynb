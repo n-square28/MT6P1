{
 "cells": [
  {
   "cell_type": "code",
   "execution_count": 4,
   "metadata": {},
   "outputs": [
    {
     "name": "stdout",
     "output_type": "stream",
     "text": [
      "T(c*x+y)= [c*x0 + x0, c*x0 + 2*c*x1 + x0 + 2*x1]\n",
      "c*T(x)+T(y)= [c*x0 + x0, c*x0 + 2*c*x1 + x0 + 2*x1]\n",
      "Thus the given map is a linear transformation\n",
      "T(c*x+y)= [c*x0 - c*x1 + x0 - x1, 2*c*x2 + 2*x2, 1]\n",
      "c*T(x)+T(y)= [c*x0 - c*x1 + x0 - x1, 2*c*x2 + 2*x2, c + 1]\n",
      "Thus the given map is not a linear transformation\n"
     ]
    },
    {
     "data": {
      "text/plain": [
       "False"
      ]
     },
     "execution_count": 4,
     "metadata": {},
     "output_type": "execute_result"
    }
   ],
   "source": [
    "import sympy as sp\n",
    "import numpy as np\n",
    "\n",
    "def is_linear(T,domain_dim):\n",
    "    x=np.array(sp.symbols(f'x:{domain_dim}'))\n",
    "    y=np.array(sp.symbols(f'x:{domain_dim}'))\n",
    "    c = sp.symbols('c')\n",
    "    lhs = T(c*x+y)\n",
    "    rhs = c*T(x)+T(y)\n",
    "    lhs = [sp.expand(i) for i in lhs]\n",
    "    print(f'T(c*x+y)= {lhs}')\n",
    "    rhs = [sp.expand(i) for i in rhs]\n",
    "    print(f'c*T(x)+T(y)= {rhs}')\n",
    "    if rhs == lhs:\n",
    "        print(\"Thus the given map is a linear transformation\")\n",
    "        return True\n",
    "    else:\n",
    "        print(\"Thus the given map is not a linear transformation\")\n",
    "        return False\n",
    "def T(v):\n",
    "    return np.array([v[0],v[0]+2*v[1]])\n",
    "is_linear(T,2)\n",
    "\n",
    "def T(v):\n",
    "    return np.array([v[0]-v[1],2*v[2],1])\n",
    "is_linear(T,3)\n"
   ]
  },
  {
   "cell_type": "code",
   "execution_count": 8,
   "metadata": {},
   "outputs": [
    {
     "name": "stdout",
     "output_type": "stream",
     "text": [
      "The range of M i s spanned ny the first 2 rows of the matrix Matrix([[1, 0, 1/2], [0, 1, 1/2], [0, 0, 0]])\n",
      "The Nullspace is spanned by the collomns of  [Matrix([\n",
      "[ 1],\n",
      "[-1],\n",
      "[ 1]])]\n",
      "Rank Nullity thm is verified\n"
     ]
    },
    {
     "data": {
      "text/plain": [
       "True"
      ]
     },
     "execution_count": 8,
     "metadata": {},
     "output_type": "execute_result"
    }
   ],
   "source": [
    "def rank_nullity(M,domain_dim):\n",
    "    rank = M.rank()\n",
    "    B = M.rref()\n",
    "    print(f\"The range of M i s spanned ny the first {rank} rows of the matrix {B[0]}\")\n",
    "    N = M.transpose().nullspace()\n",
    "    print(\"The Nullspace is spanned by the collomns of \",N)\n",
    "    nullity = len(N)\n",
    "    if domain_dim == rank + nullity:\n",
    "        print(\"Rank Nullity thm is verified\")\n",
    "        return True\n",
    "    else:\n",
    "        print(\"ummmm WHAT?\")\n",
    "        return False\n",
    "    \n",
    "m = sp.Matrix([[1,-1,0],[2,0,1],[1,1,1]])\n",
    "rank_nullity(m,3)\n",
    "        "
   ]
  },
  {
   "cell_type": "code",
   "execution_count": null,
   "metadata": {},
   "outputs": [],
   "source": []
  }
 ],
 "metadata": {
  "kernelspec": {
   "display_name": "Python 3",
   "language": "python",
   "name": "python3"
  },
  "language_info": {
   "codemirror_mode": {
    "name": "ipython",
    "version": 3
   },
   "file_extension": ".py",
   "mimetype": "text/x-python",
   "name": "python",
   "nbconvert_exporter": "python",
   "pygments_lexer": "ipython3",
   "version": "3.6.9"
  }
 },
 "nbformat": 4,
 "nbformat_minor": 2
}
