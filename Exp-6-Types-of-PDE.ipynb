{
 "cells": [
  {
   "cell_type": "code",
   "execution_count": 35,
   "id": "contemporary-hollow",
   "metadata": {},
   "outputs": [
    {
     "name": "stdout",
     "output_type": "stream",
     "text": [
      "the solution is a*x + c - y*sqrt(1 - a**2)\n",
      "the solution is a*x + c + y/a\n",
      "the solution is a*x - a*y/(a + 1) + c\n"
     ]
    }
   ],
   "source": [
    "#type 1\n",
    "from sympy import *\n",
    "from sympy.abc import p,q,a,b,c,x,y\n",
    "def Type1(eq):\n",
    "    eqn=eq.subs(p,a).subs(q,b)\n",
    "    b_val=solve(eqn,b)[0]\n",
    "    z=a*x+b_val*y+c\n",
    "    print(\"the solution is\",z)\n",
    "Type1(p**2+q**2-1)\n",
    "Type1(p*q-1)\n",
    "Type1((p*q)+p+q)"
   ]
  },
  {
   "cell_type": "code",
   "execution_count": 34,
   "id": "dutch-influence",
   "metadata": {},
   "outputs": [
    {
     "name": "stdout",
     "output_type": "stream",
     "text": [
      "c + log(a*z - 1)\n",
      "c - 2*sqrt(a*z - a + 1)\n",
      "c\n"
     ]
    }
   ],
   "source": [
    "#type 2\n",
    "from sympy import symbols, solve, integrate\n",
    "u,a,x,y,z,c,p,q,z,zu = symbols('u,a,x,y,z,c,p,q,z,zu')\n",
    "def Type2(eq):\n",
    "    eqn = eq.subs(p,zu).subs(q,a*zu)\n",
    "    zu_val = solve(eqn,zu)\n",
    "    non_zero = [x for x in zu_val if x!=0]+[0]\n",
    "    if non_zero == [0]:\n",
    "        u = integrate(non_zero[0],z) + c\n",
    "    else:\n",
    "        u = integrate(1/non_zero[0],z) + c\n",
    "    print(u)\n",
    "Type2(p*(1+q)-z*q)\n",
    "Type2(p*(1-q**2)-q*(1-z))\n",
    "Type2(p-q*z)"
   ]
  },
  {
   "cell_type": "code",
   "execution_count": 36,
   "id": "characteristic-advancement",
   "metadata": {},
   "outputs": [
    {
     "name": "stdout",
     "output_type": "stream",
     "text": [
      "The solution is a*x + a*y - x**2/2 - y**2/2\n",
      "The solution is a*x + a*(-log(sin(y) - 1)/2 + log(sin(y) + 1)/2) + sin(x)\n",
      "The solution is a*x - a*y + cos(x) - cos(y)\n"
     ]
    }
   ],
   "source": [
    "#type 3\n",
    "from sympy.abc import x,y,a,p,q\n",
    "from sympy import *\n",
    "def Type3(f1,f2):\n",
    "    r1=solve(f1-a,p)\n",
    "    r2=solve(f2-a,q)\n",
    "    z=integrate(r1[0],x)+integrate(r2[0],y)\n",
    "    print(\"The solution is\", z)\n",
    "Type3(p+x,q+y)\n",
    "Type3(p-cos(x),q*cos(y))\n",
    "Type3(p+sin(x),sin(y)-q)\n"
   ]
  },
  {
   "cell_type": "code",
   "execution_count": 37,
   "id": "serious-payroll",
   "metadata": {},
   "outputs": [
    {
     "name": "stdout",
     "output_type": "stream",
     "text": [
      "The sol is z= a**2 + a*x + b**2 + b*y\n",
      "The sol is z= a*b/(a - b) + a*x + b*y\n",
      "The sol is z= a*x + b*y + log(a*b)\n"
     ]
    }
   ],
   "source": [
    "from sympy.abc import a,b,p,q,x,y,z\n",
    "def Type4(f):\n",
    "    print(\"The sol is z=\", f.subs(p,a).subs(q,b))\n",
    "Type4(p*x+q*y+(p**2+q**2))\n",
    "Type4(p*x+q*y+(p*q)/(p-q))\n",
    "Type4(p*x+q*y+log(p*q))"
   ]
  },
  {
   "cell_type": "code",
   "execution_count": null,
   "id": "julian-tunisia",
   "metadata": {},
   "outputs": [],
   "source": []
  }
 ],
 "metadata": {
  "kernelspec": {
   "display_name": "Python 3",
   "language": "python",
   "name": "python3"
  },
  "language_info": {
   "codemirror_mode": {
    "name": "ipython",
    "version": 3
   },
   "file_extension": ".py",
   "mimetype": "text/x-python",
   "name": "python",
   "nbconvert_exporter": "python",
   "pygments_lexer": "ipython3",
   "version": "3.9.2"
  }
 },
 "nbformat": 4,
 "nbformat_minor": 5
}
