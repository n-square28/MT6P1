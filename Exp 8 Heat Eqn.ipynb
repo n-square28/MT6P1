{
 "cells": [
  {
   "cell_type": "code",
   "execution_count": 14,
   "id": "individual-verification",
   "metadata": {},
   "outputs": [],
   "source": [
    "from sympy import integrate, pi, cos, sin, exp, pprint\n",
    "from sympy.abc import x,t \n",
    "def heatSolve(f,c,l):\n",
    "    heat = 0\n",
    "    for n in range(1,5):\n",
    "        B = (2/l)*integrate(f*sin(n*pi*x/l),(x,0,l)) \n",
    "        heat = B*sin(n*pi*x/l)*exp(-(n*pi*c/l)**2*t) + heat\n",
    "    pprint(heat)\n"
   ]
  },
  {
   "cell_type": "code",
   "execution_count": 15,
   "id": "intelligent-librarian",
   "metadata": {},
   "outputs": [
    {
     "name": "stdout",
     "output_type": "stream",
     "text": [
      "         2                                      2             \n",
      "     -4⋅π ⋅t                               -36⋅π ⋅t           \n",
      "8.0⋅ℯ       ⋅sin(π⋅x)   0.296296296296296⋅ℯ        ⋅sin(3⋅π⋅x)\n",
      "───────────────────── + ──────────────────────────────────────\n",
      "           3                               3                  \n",
      "          π                               π                   \n"
     ]
    }
   ],
   "source": [
    "heatSolve(x-x**2,2,1)"
   ]
  },
  {
   "cell_type": "code",
   "execution_count": 16,
   "id": "separate-dallas",
   "metadata": {},
   "outputs": [
    {
     "name": "stdout",
     "output_type": "stream",
     "text": [
      "         2                          2             \n",
      "     -4⋅π ⋅t                   -16⋅π ⋅t           \n",
      "8.0⋅ℯ       ⋅sin(2⋅π⋅x)   3.2⋅ℯ        ⋅sin(4⋅π⋅x)\n",
      "─────────────────────── + ────────────────────────\n",
      "           π                         π            \n"
     ]
    }
   ],
   "source": [
    "heatSolve(3*cos(pi*x),1,1)"
   ]
  },
  {
   "cell_type": "code",
   "execution_count": 17,
   "id": "compound-disco",
   "metadata": {},
   "outputs": [
    {
     "name": "stdout",
     "output_type": "stream",
     "text": [
      "         2                         2                                      2   \n",
      "       -π ⋅t                   -4⋅π ⋅t                                -9⋅π ⋅t \n",
      "200.0⋅ℯ     ⋅sin(π⋅x)   100.0⋅ℯ       ⋅sin(2⋅π⋅x)   66.6666666666667⋅ℯ       ⋅\n",
      "───────────────────── - ───────────────────────── + ──────────────────────────\n",
      "          π                         π                                π        \n",
      "\n",
      "                        2             \n",
      "                   -16⋅π ⋅t           \n",
      "sin(3⋅π⋅x)   50.0⋅ℯ        ⋅sin(4⋅π⋅x)\n",
      "────────── - ─────────────────────────\n",
      "                         π            \n"
     ]
    }
   ],
   "source": [
    "heatSolve(100*x,1,1)"
   ]
  },
  {
   "cell_type": "code",
   "execution_count": null,
   "id": "hidden-zoning",
   "metadata": {},
   "outputs": [],
   "source": []
  }
 ],
 "metadata": {
  "kernelspec": {
   "display_name": "Python 3",
   "language": "python",
   "name": "python3"
  },
  "language_info": {
   "codemirror_mode": {
    "name": "ipython",
    "version": 3
   },
   "file_extension": ".py",
   "mimetype": "text/x-python",
   "name": "python",
   "nbconvert_exporter": "python",
   "pygments_lexer": "ipython3",
   "version": "3.9.2"
  }
 },
 "nbformat": 4,
 "nbformat_minor": 5
}
