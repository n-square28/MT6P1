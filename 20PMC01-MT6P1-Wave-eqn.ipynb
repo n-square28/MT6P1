{
 "cells": [
  {
   "cell_type": "code",
   "execution_count": 30,
   "id": "transsexual-gravity",
   "metadata": {},
   "outputs": [
    {
     "name": "stdout",
     "output_type": "stream",
     "text": [
      "0.75*sin(pi*x/2)*cos(pi*t/2) - 0.25*sin(3*pi*x/2)*cos(3*pi*t/2)\n"
     ]
    }
   ],
   "source": [
    "from sympy import integrate, pi, cos, sin, simplify\n",
    "from sympy.abc import x,t \n",
    "def waveSolve(f,g,c,l):\n",
    "    wave = 0\n",
    "    for n in range(1,5):\n",
    "        C = (2/l)*integrate(f*sin(n*pi*x/l),(x,0,l)) \n",
    "        d = (2/(n*pi*c))*integrate(g,(x,0,l))\n",
    "        wave = (C*cos(n*pi*c*t/l)+d*sin(n*pi*c*t/l))*sin(n*pi*x/l) + wave\n",
    "    print(wave)\n",
    "waveSolve(sin(pi*x/2)**3,0,1,2)\n",
    "    "
   ]
  },
  {
   "cell_type": "code",
   "execution_count": 31,
   "id": "fossil-buffer",
   "metadata": {},
   "outputs": [
    {
     "name": "stdout",
     "output_type": "stream",
     "text": [
      "sin(x)*cos(t)\n"
     ]
    }
   ],
   "source": [
    "waveSolve(sin(x),0,1,pi)"
   ]
  },
  {
   "cell_type": "code",
   "execution_count": null,
   "id": "decent-nicaragua",
   "metadata": {},
   "outputs": [],
   "source": [
    "waveSolve(x**3,0,)"
   ]
  }
 ],
 "metadata": {
  "kernelspec": {
   "display_name": "Python 3",
   "language": "python",
   "name": "python3"
  },
  "language_info": {
   "codemirror_mode": {
    "name": "ipython",
    "version": 3
   },
   "file_extension": ".py",
   "mimetype": "text/x-python",
   "name": "python",
   "nbconvert_exporter": "python",
   "pygments_lexer": "ipython3",
   "version": "3.9.2"
  }
 },
 "nbformat": 4,
 "nbformat_minor": 5
}
