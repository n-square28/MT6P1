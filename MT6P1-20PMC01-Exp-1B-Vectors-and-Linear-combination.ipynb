{
 "cells": [
  {
   "cell_type": "code",
   "execution_count": 2,
   "metadata": {},
   "outputs": [
    {
     "name": "stdout",
     "output_type": "stream",
     "text": [
      "The given vector is in the span S\n",
      "The scalars are {a0: 1, a1: -1}\n"
     ]
    },
    {
     "data": {
      "text/plain": [
       "True"
      ]
     },
     "execution_count": 2,
     "metadata": {},
     "output_type": "execute_result"
    }
   ],
   "source": [
    "import numpy as np\n",
    "import sympy as sp\n",
    "def is_in_span(vec,S):\n",
    "    m=-vec\n",
    "    var=sp.symbols(f'a:{len(S)}')\n",
    "    for i,v in enumerate(var):\n",
    "        m=m+v*S[i]\n",
    "    scalars=sp.solve(m,var)\n",
    "    if len(scalars)==0:\n",
    "        print(\"The given vector is not in span S\")\n",
    "        return False\n",
    "    else:\n",
    "        print(\"The given vector is in the span S\")\n",
    "        print(\"The scalars are\",scalars)\n",
    "        return True\n",
    "vec=np.array((2,-1,1))\n",
    "S=np.array([(1,0,2),(-1,1,1)])\n",
    "is_in_span(vec,S)\n",
    "\n"
   ]
  },
  {
   "cell_type": "code",
   "execution_count": 3,
   "metadata": {},
   "outputs": [
    {
     "name": "stdout",
     "output_type": "stream",
     "text": [
      "The given vector is in the span S\n",
      "The scalars are {a0: 3, a1: 4, a2: -2}\n"
     ]
    },
    {
     "data": {
      "text/plain": [
       "True"
      ]
     },
     "execution_count": 3,
     "metadata": {},
     "output_type": "execute_result"
    }
   ],
   "source": [
    "v = sp.Matrix([[1,2],[-3,4]])\n",
    "v1 = [[1,0],[-1,0]]\n",
    "v2 = [[0,1],[0,1]]\n",
    "v3 = [[1,1],[0,0]]\n",
    "s = np.array([v1,v2,v3])\n",
    "is_in_span(v,s)"
   ]
  },
  {
   "cell_type": "code",
   "execution_count": null,
   "metadata": {},
   "outputs": [],
   "source": []
  }
 ],
 "metadata": {
  "kernelspec": {
   "display_name": "Python 3",
   "language": "python",
   "name": "python3"
  },
  "language_info": {
   "codemirror_mode": {
    "name": "ipython",
    "version": 3
   },
   "file_extension": ".py",
   "mimetype": "text/x-python",
   "name": "python",
   "nbconvert_exporter": "python",
   "pygments_lexer": "ipython3",
   "version": "3.6.9"
  }
 },
 "nbformat": 4,
 "nbformat_minor": 2
}
